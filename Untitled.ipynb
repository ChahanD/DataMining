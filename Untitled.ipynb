{
 "cells": [
  {
   "cell_type": "code",
   "execution_count": 3,
   "id": "49abef13-73f2-47a9-8bfb-caab08cb1c74",
   "metadata": {},
   "outputs": [
    {
     "ename": "KeyError",
     "evalue": "'\\n      ?item wdt'",
     "output_type": "error",
     "traceback": [
      "\u001b[1;31m---------------------------------------------------------------------------\u001b[0m",
      "\u001b[1;31mKeyError\u001b[0m                                  Traceback (most recent call last)",
      "Cell \u001b[1;32mIn[3], line 55\u001b[0m\n\u001b[0;32m     52\u001b[0m         \u001b[38;5;28;01mreturn\u001b[39;00m \u001b[38;5;28;01mFalse\u001b[39;00m\n\u001b[0;32m     54\u001b[0m \u001b[38;5;66;03m# Obtenir les URL des images depuis Wikidata\u001b[39;00m\n\u001b[1;32m---> 55\u001b[0m image_urls \u001b[38;5;241m=\u001b[39m \u001b[43mget_image_urls\u001b[49m\u001b[43m(\u001b[49m\u001b[38;5;241;43m100\u001b[39;49m\u001b[43m)\u001b[49m\n\u001b[0;32m     57\u001b[0m \u001b[38;5;66;03m# Télécharger les images et leurs métadonnées\u001b[39;00m\n\u001b[0;32m     58\u001b[0m \u001b[38;5;28;01mfor\u001b[39;00m i, image_url \u001b[38;5;129;01min\u001b[39;00m \u001b[38;5;28menumerate\u001b[39m(image_urls):\n",
      "Cell \u001b[1;32mIn[3], line 18\u001b[0m, in \u001b[0;36mget_image_urls\u001b[1;34m(limit)\u001b[0m\n\u001b[0;32m     11\u001b[0m \u001b[38;5;28;01mdef\u001b[39;00m \u001b[38;5;21mget_image_urls\u001b[39m(limit\u001b[38;5;241m=\u001b[39m\u001b[38;5;241m100\u001b[39m):\n\u001b[0;32m     12\u001b[0m     query \u001b[38;5;241m=\u001b[39m \u001b[38;5;124;43m\"\"\"\u001b[39;49m\n\u001b[0;32m     13\u001b[0m \u001b[38;5;124;43m    SELECT ?image WHERE \u001b[39;49m\u001b[38;5;124;43m{\u001b[39;49m\n\u001b[0;32m     14\u001b[0m \u001b[38;5;124;43m      ?item wdt:P18 ?image\u001b[39;49m\n\u001b[0;32m     15\u001b[0m \u001b[38;5;124;43m      SERVICE wikibase:label \u001b[39;49m\u001b[38;5;124;43m{\u001b[39;49m\u001b[38;5;124;43m bd:serviceParam wikibase:language \u001b[39;49m\u001b[38;5;124;43m\"\u001b[39;49m\u001b[38;5;124;43m[AUTO_LANGUAGE],en\u001b[39;49m\u001b[38;5;124;43m\"\u001b[39;49m\u001b[38;5;124;43m. }\u001b[39;49m\n\u001b[0;32m     16\u001b[0m \u001b[38;5;124;43m    }\u001b[39;49m\n\u001b[0;32m     17\u001b[0m \u001b[38;5;124;43m    LIMIT \u001b[39;49m\u001b[38;5;132;43;01m{}\u001b[39;49;00m\n\u001b[1;32m---> 18\u001b[0m \u001b[38;5;124;43m    \u001b[39;49m\u001b[38;5;124;43m\"\"\"\u001b[39;49m\u001b[38;5;241;43m.\u001b[39;49m\u001b[43mformat\u001b[49m\u001b[43m(\u001b[49m\u001b[43mlimit\u001b[49m\u001b[43m)\u001b[49m\n\u001b[0;32m     20\u001b[0m     url \u001b[38;5;241m=\u001b[39m \u001b[38;5;124m'\u001b[39m\u001b[38;5;124mhttps://query.wikidata.org/sparql\u001b[39m\u001b[38;5;124m'\u001b[39m\n\u001b[0;32m     21\u001b[0m     headers \u001b[38;5;241m=\u001b[39m {\u001b[38;5;124m'\u001b[39m\u001b[38;5;124mUser-Agent\u001b[39m\u001b[38;5;124m'\u001b[39m: \u001b[38;5;124m'\u001b[39m\u001b[38;5;124mGrimoireBot/0.1 (https://example.com/grimoire)\u001b[39m\u001b[38;5;124m'\u001b[39m}\n",
      "\u001b[1;31mKeyError\u001b[0m: '\\n      ?item wdt'"
     ]
    }
   ],
   "source": [
    "import requests\n",
    "import os\n",
    "from PIL import Image\n",
    "from io import BytesIO\n",
    "import json\n",
    "\n",
    "# Création du dossier 'images'\n",
    "os.makedirs('images', exist_ok=True)\n",
    "\n",
    "# Fonction pour obtenir les URL des images depuis Wikidata\n",
    "def get_image_urls(limit=100):\n",
    "    query = \"\"\"\n",
    "    SELECT ?image WHERE {\n",
    "      ?item wdt:P18 ?image\n",
    "      SERVICE wikibase:label { bd:serviceParam wikibase:language \"[AUTO_LANGUAGE],en\". }\n",
    "    }\n",
    "    LIMIT {}\n",
    "    \"\"\".format(limit)\n",
    "\n",
    "    url = 'https://query.wikidata.org/sparql'\n",
    "    headers = {'User-Agent': 'GrimoireBot/0.1 (https://example.com/grimoire)'}\n",
    "    response = requests.get(url, headers=headers, params={'query': query, 'format': 'json'})\n",
    "    \n",
    "    if response.status_code == 200:\n",
    "        results = response.json()['results']['bindings']\n",
    "        return [result['image']['value'] for result in results]\n",
    "    else:\n",
    "        raise Exception(\"Erreur lors de la récupération des URL d'images depuis Wikidata.\")\n",
    "\n",
    "# Fonction pour télécharger une image et ses métadonnées\n",
    "def download_image(image_url, image_num):\n",
    "    try:\n",
    "        response = requests.get(image_url)\n",
    "        if response.status_code == 200:\n",
    "            # Enregistrer l'image\n",
    "            image_path = f'images/image_{image_num}.jpg'\n",
    "            with open(image_path, 'wb') as f:\n",
    "                f.write(response.content)\n",
    "\n",
    "            # Extraction des métadonnées\n",
    "            image = Image.open(BytesIO(response.content))\n",
    "            image_metadata = image._getexif()\n",
    "            metadata_path = f'images/metadata_{image_num}.json'\n",
    "            with open(metadata_path, 'w') as f:\n",
    "                json.dump(image_metadata, f)\n",
    "\n",
    "            return True\n",
    "        else:\n",
    "            return False\n",
    "    except Exception as e:\n",
    "        print(f\"Erreur lors du téléchargement de l'image {image_num}: {e}\")\n",
    "        return False\n",
    "\n",
    "# Obtenir les URL des images depuis Wikidata\n",
    "image_urls = get_image_urls(100)\n",
    "\n",
    "# Télécharger les images et leurs métadonnées\n",
    "for i, image_url in enumerate(image_urls):\n",
    "    success = download_image(image_url, i)\n",
    "    if not success:\n",
    "        print(f\"Échec du téléchargement de l'image numéro {i}.\")\n"
   ]
  },
  {
   "cell_type": "code",
   "execution_count": null,
   "id": "920ecc1b-19cc-4f2c-a691-4c8f3059e2a3",
   "metadata": {},
   "outputs": [],
   "source": []
  }
 ],
 "metadata": {
  "kernelspec": {
   "display_name": "Python 3 (ipykernel)",
   "language": "python",
   "name": "python3"
  },
  "language_info": {
   "codemirror_mode": {
    "name": "ipython",
    "version": 3
   },
   "file_extension": ".py",
   "mimetype": "text/x-python",
   "name": "python",
   "nbconvert_exporter": "python",
   "pygments_lexer": "ipython3",
   "version": "3.10.11"
  }
 },
 "nbformat": 4,
 "nbformat_minor": 5
}
