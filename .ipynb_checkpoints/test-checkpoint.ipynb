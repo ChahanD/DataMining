{
 "cells": [
  {
   "cell_type": "code",
   "execution_count": 2,
   "id": "a0250110-cdde-4643-80c0-99bc594e0ec5",
   "metadata": {},
   "outputs": [
    {
     "name": "stdout",
     "output_type": "stream",
     "text": [
      "Pas de métadonnées EXIF pour l'image 0\n",
      "Image 0 téléchargée avec succès.\n",
      "Pas de métadonnées EXIF pour l'image 1\n",
      "Image 1 téléchargée avec succès.\n"
     ]
    },
    {
     "ename": "KeyboardInterrupt",
     "evalue": "",
     "output_type": "error",
     "traceback": [
      "\u001b[1;31m---------------------------------------------------------------------------\u001b[0m",
      "\u001b[1;31mKeyboardInterrupt\u001b[0m                         Traceback (most recent call last)",
      "Cell \u001b[1;32mIn[2], line 71\u001b[0m\n\u001b[0;32m     68\u001b[0m         \u001b[38;5;28mprint\u001b[39m(response\u001b[38;5;241m.\u001b[39mstatus_code)\n\u001b[0;32m     69\u001b[0m         \u001b[38;5;28mprint\u001b[39m(image_url)\n\u001b[1;32m---> 71\u001b[0m     \u001b[43mtime\u001b[49m\u001b[38;5;241;43m.\u001b[39;49m\u001b[43msleep\u001b[49m\u001b[43m(\u001b[49m\u001b[38;5;241;43m5\u001b[39;49m\u001b[43m)\u001b[49m   \n\u001b[0;32m     72\u001b[0m \u001b[38;5;28;01mexcept\u001b[39;00m \u001b[38;5;167;01mException\u001b[39;00m \u001b[38;5;28;01mas\u001b[39;00m e:\n\u001b[0;32m     73\u001b[0m     \u001b[38;5;28mprint\u001b[39m(\u001b[38;5;124mf\u001b[39m\u001b[38;5;124m\"\u001b[39m\u001b[38;5;124mErreur lors du téléchargement de l\u001b[39m\u001b[38;5;124m'\u001b[39m\u001b[38;5;124mimage \u001b[39m\u001b[38;5;132;01m{\u001b[39;00mi\u001b[38;5;132;01m}\u001b[39;00m\u001b[38;5;124m: \u001b[39m\u001b[38;5;132;01m{\u001b[39;00me\u001b[38;5;132;01m}\u001b[39;00m\u001b[38;5;124m\"\u001b[39m)\n",
      "\u001b[1;31mKeyboardInterrupt\u001b[0m: "
     ]
    }
   ],
   "source": [
    "import requests\n",
    "from SPARQLWrapper import SPARQLWrapper, JSON\n",
    "from PIL import Image, ExifTags\n",
    "from io import BytesIO\n",
    "import os\n",
    "import json\n",
    "import time\n",
    "\n",
    "# Créer les dossiers pour les images et les métadonnées\n",
    "os.makedirs('images', exist_ok=True)\n",
    "os.makedirs('metadata', exist_ok=True)\n",
    "\n",
    "# Définir l'endpoint SPARQL de Wikidata et la requête\n",
    "sparql = SPARQLWrapper(\"https://query.wikidata.org/sparql\")\n",
    "sparql_query = \"\"\"\n",
    "SELECT ?image\n",
    "WHERE {\n",
    "  {\n",
    "    ?item wdt:P31 wd:Q1074; # éléments qui sont des paysages\n",
    "    wdt:P18 ?image.\n",
    "  } UNION {\n",
    "    ?item wdt:P31 wd:Q1420; # éléments qui sont des voitures\n",
    "    wdt:P18 ?image.\n",
    "  } UNION {\n",
    "    ?item wdt:P31 wd:Q31629; # éléments qui sont des sports\n",
    "    wdt:P18 ?image.\n",
    "  } UNION {\n",
    "    ?item wdt:P31 wd:Q3305213; # éléments qui sont des œuvres d'art\n",
    "    wdt:P18 ?image.\n",
    "  }\n",
    "}\n",
    "LIMIT 100\n",
    "\"\"\"\n",
    "sparql.setQuery(sparql_query)\n",
    "sparql.setReturnFormat(JSON)\n",
    "results = sparql.query().convert()\n",
    "\n",
    "# Télécharger les images et enregistrer les métadonnées\n",
    "for i, result in enumerate(results[\"results\"][\"bindings\"]):\n",
    "    image_url = result[\"image\"][\"value\"]\n",
    "    try:\n",
    "        headers = {'User-Agent': 'Votre User-Agent ici'}\n",
    "        response = requests.get(image_url, headers=headers)\n",
    "        if response.status_code == 200:\n",
    "            image_path = f'images/image_{i}.jpg'\n",
    "            with open(image_path, 'wb') as file:\n",
    "                file.write(response.content)\n",
    "\n",
    "            image = Image.open(BytesIO(response.content))\n",
    "            metadata = image._getexif()\n",
    "\n",
    "            if metadata:\n",
    "                formatted_metadata = {}\n",
    "                for tag, value in metadata.items():\n",
    "                    decoded_tag = ExifTags.TAGS.get(tag, tag)\n",
    "                    if isinstance(value, bytes):\n",
    "                        value = value.decode('utf-8', 'ignore')  # Convertir les bytes en string\n",
    "                    formatted_metadata[decoded_tag] = value\n",
    "\n",
    "                metadata_path = f'metadata/metadata_{i}.json'\n",
    "                with open(metadata_path, 'w') as file:\n",
    "                    json.dump(formatted_metadata, file, ensure_ascii=False, indent=4)\n",
    "            else:\n",
    "                print(f\"Pas de métadonnées EXIF pour l'image {i}\")\n",
    "\n",
    "            print(f\"Image {i} téléchargée avec succès.\")\n",
    "        else:\n",
    "            print(response.status_code)\n",
    "            print(image_url)  \n",
    "    except Exception as e:\n",
    "        print(f\"Erreur lors du téléchargement de l'image {i}: {e}\")\n"
   ]
  },
  {
   "cell_type": "code",
   "execution_count": null,
   "id": "61682e58-c178-49d9-8c64-db85c8508abd",
   "metadata": {},
   "outputs": [],
   "source": []
  }
 ],
 "metadata": {
  "kernelspec": {
   "display_name": "Python 3 (ipykernel)",
   "language": "python",
   "name": "python3"
  },
  "language_info": {
   "codemirror_mode": {
    "name": "ipython",
    "version": 3
   },
   "file_extension": ".py",
   "mimetype": "text/x-python",
   "name": "python",
   "nbconvert_exporter": "python",
   "pygments_lexer": "ipython3",
   "version": "3.10.11"
  }
 },
 "nbformat": 4,
 "nbformat_minor": 5
}
