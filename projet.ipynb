{
 "cells": [
  {
   "attachments": {},
   "cell_type": "markdown",
   "metadata": {},
   "source": [
    "# Projet Data Mining - Système de recommandation d'images\n",
    "### Auteur: Rodolphe Lajugie | Valentin Barriquand\n",
    "#### Date: 07/02/2023\n"
   ]
  },
  {
   "cell_type": "code",
   "execution_count": 4,
   "metadata": {},
   "outputs": [
    {
     "ename": "ImportError",
     "evalue": "cannot import name 'MiniBatchKMeans' from 'cluster' (/opt/homebrew/lib/python3.11/site-packages/cluster/__init__.py)",
     "output_type": "error",
     "traceback": [
      "\u001b[0;31m---------------------------------------------------------------------------\u001b[0m",
      "\u001b[0;31mImportError\u001b[0m                               Traceback (most recent call last)",
      "Cell \u001b[0;32mIn[4], line 18\u001b[0m\n\u001b[1;32m     16\u001b[0m \u001b[39mimport\u001b[39;00m \u001b[39mtime\u001b[39;00m\n\u001b[1;32m     17\u001b[0m \u001b[39mimport\u001b[39;00m \u001b[39mjson\u001b[39;00m\n\u001b[0;32m---> 18\u001b[0m \u001b[39mfrom\u001b[39;00m \u001b[39mcluster\u001b[39;00m \u001b[39mimport\u001b[39;00m MiniBatchKMeans\n\u001b[1;32m     19\u001b[0m \u001b[39mfrom\u001b[39;00m \u001b[39mwebcolors\u001b[39;00m \u001b[39mimport\u001b[39;00m rgb_to_name\n\u001b[1;32m     20\u001b[0m \u001b[39mimport\u001b[39;00m \u001b[39mpandas\u001b[39;00m \u001b[39mas\u001b[39;00m \u001b[39mpd\u001b[39;00m\n",
      "\u001b[0;31mImportError\u001b[0m: cannot import name 'MiniBatchKMeans' from 'cluster' (/opt/homebrew/lib/python3.11/site-packages/cluster/__init__.py)"
     ]
    }
   ],
   "source": [
    "# Projet Data Mining\n",
    "# pip install sparqlwrapper\n",
    "# https://rdflib.github.io/sparqlwrapper/\n",
    "\n",
    "# Importation des librairies\n",
    "import traceback\n",
    "import sys\n",
    "import os\n",
    "from SPARQLWrapper import SPARQLWrapper, JSON\n",
    "import urllib.request\n",
    "import PIL.Image as Image\n",
    "import numpy\n",
    "import math\n",
    "import matplotlib.pyplot as plot\n",
    "#import KMeans\n",
    "import time\n",
    "import json\n",
    "from cluster import MiniBatchKMeans\n",
    "from webcolors import rgb_to_name\n",
    "import pandas as pd\n",
    "\n",
    "# Variables globales\n",
    "i = 0\n",
    "url = \"https://query.wikidata.org/sparql\"\n",
    "\n",
    "# Ajouter en plus la selections des type d'objet pour les ajoouter au metadata\n",
    "queries = [\"\"\"select  ?image {\n",
    "  ?voiture wdt:P31 wd:Q1420;\n",
    "           wdt:P18 ?image\n",
    "  }\n",
    "limit 100\"\"\",\n",
    "\"\"\"select  ?image {\n",
    "  ?gville wdt:P31 wd:Q1549591;\n",
    "           wdt:P18 ?image\n",
    "  }\n",
    "limit 100\"\"\",\n",
    "\n",
    "\n",
    "\"\"\"select  ?image {\n",
    "  ?jeu wdt:P31 wd:Q7889;\n",
    "           wdt:P18 ?image\n",
    "  }\n",
    "limit 100\"\"\",\n",
    "\n",
    "\"\"\"select  ?image {\n",
    "  ?landscape wdt:P31 wd:Q107425;\n",
    "           wdt:P18 ?image\n",
    "  }\n",
    "limit 100\"\"\",\n",
    "\n",
    "\"\"\"select  ?image{\n",
    "  ?dogs wdt:P31 wd:Q144;\n",
    "           wdt:P18 ?image\n",
    "  }\n",
    "limit 100\"\"\"]\n",
    "\n",
    "querie2 = \"\"\"select  ?image {\n",
    "  ?people wdt:P31 wd:Q5;\n",
    "           wdt:P18 ?image\n",
    "  }\n",
    "\n",
    "limit 50\"\"\""
   ]
  },
  {
   "attachments": {},
   "cell_type": "markdown",
   "metadata": {},
   "source": [
    "## Récupération des résultats"
   ]
  },
  {
   "cell_type": "code",
   "execution_count": null,
   "metadata": {},
   "outputs": [],
   "source": [
    "def get_results(url, query):\n",
    "    user_agent = \"WDQS-example Python/%s.%s\" % (sys.version_info[0], sys.version_info[1])\n",
    "    sparql = SPARQLWrapper(url, agent=user_agent)\n",
    "    sparql.setQuery(query)\n",
    "    sparql.setReturnFormat(JSON)\n",
    "    return sparql.query().convert()"
   ]
  },
  {
   "cell_type": "code",
   "execution_count": null,
   "metadata": {},
   "outputs": [],
   "source": [
    "def get_res():\n",
    "    res = []\n",
    "    for q in queries : \n",
    "        gettedQ = get_results(url, q)\n",
    "        res.extend(gettedQ[\"results\"][\"bindings\"])\n",
    "    return res"
   ]
  },
  {
   "attachments": {},
   "cell_type": "markdown",
   "metadata": {},
   "source": [
    "## Téléchargement d'images\n",
    "Et sauvegarde dans le dossier images sous le nom imageX.jpg"
   ]
  },
  {
   "cell_type": "code",
   "execution_count": null,
   "metadata": {},
   "outputs": [],
   "source": [
    "def download_image(url,index):\n",
    "    name = \"image\" + str(index) + \".jpg\"\n",
    "    urllib.request.urlretrieve(url, \"images/\" + name)"
   ]
  },
  {
   "attachments": {},
   "cell_type": "markdown",
   "metadata": {},
   "source": [
    "## Suppression des images"
   ]
  },
  {
   "cell_type": "code",
   "execution_count": null,
   "metadata": {},
   "outputs": [],
   "source": [
    "def delete_donnees():\n",
    "    if len(os.listdir(\"images\")) != 0 or len(os.listdir(\"metadonnees\")) != 0:\n",
    "        for file in os.listdir(\"images\"):\n",
    "            os.remove(os.path.join(\"images\", file))\n",
    "        for file in os.listdir(\"images2\"):\n",
    "            os.remove(os.path.join(\"images2\", file))\n",
    "        for file in os.listdir(\"metadonnees\"):\n",
    "            os.remove(os.path.join(\"metadonnees\", file))\n",
    "    else:\n",
    "        print(\"Les dossiers sont vide\")"
   ]
  },
  {
   "attachments": {},
   "cell_type": "markdown",
   "metadata": {},
   "source": [
    "## Redimensionnement des images"
   ]
  },
  {
   "cell_type": "code",
   "execution_count": null,
   "metadata": {},
   "outputs": [],
   "source": [
    "def resizeIMG(img):\n",
    "    factor = 1\n",
    "    if img.width > 1028 or img.height > 1028:\n",
    "        if img.height > img.width:\n",
    "            factor = 1028 / img.height\n",
    "        else:\n",
    "            factor = 1028 / img.width\n",
    "    return img.resize((int(img.width * factor), int(img.height * factor)))"
   ]
  },
  {
   "attachments": {},
   "cell_type": "markdown",
   "metadata": {},
   "source": [
    "## Calcul la distance entre deux couleurs"
   ]
  },
  {
   "cell_type": "code",
   "execution_count": null,
   "metadata": {},
   "outputs": [],
   "source": [
    "def get_distance(color1, color2):\n",
    "    return math.sqrt((color1[0]-color2[0])**2 + (color1[1]-color2[1])**2 + (color1[2]-color2[2])**2)"
   ]
  },
  {
   "attachments": {},
   "cell_type": "markdown",
   "metadata": {},
   "source": [
    "## Récupération du format des images\n",
    "Portrait, paysage ou carré"
   ]
  },
  {
   "cell_type": "code",
   "execution_count": null,
   "metadata": {},
   "outputs": [],
   "source": [
    "def getformat(image):\n",
    "    # Permets de récupérer le format d'une image\n",
    "    imgfile = Image.open(\"images/\"+image)\n",
    "    long = imgfile.size[0]\n",
    "    larg = imgfile.size[1]\n",
    "    if long > larg:\n",
    "        format = \"paysage\"\n",
    "    elif larg > long:\n",
    "        format = \"portrait\"\n",
    "    else:  \n",
    "        format = \"carre\"\n",
    "    return format"
   ]
  },
  {
   "attachments": {},
   "cell_type": "markdown",
   "metadata": {},
   "source": [
    "## Récupération des couleurs dominantes\n",
    "Pour cela on utilise la fonction MiniBatchKmeans de la librairie sklearn.cluster"
   ]
  },
  {
   "cell_type": "code",
   "execution_count": null,
   "metadata": {},
   "outputs": [],
   "source": [
    "def getcolors(image):\n",
    "    n_clusters = 2\n",
    "    imgfile = Image.open(\"images/\"+image)\n",
    "    numarray = numpy.array(imgfile.getdata(), numpy.uint8)\n",
    "    clusters = MiniBatchKMeans(n_clusters,n_init = 'auto')\n",
    "    clusters.fit(numarray)\n",
    "    npbins = numpy.arange(0, n_clusters + 1)\n",
    "    histogram = numpy.histogram(clusters.labels_, bins=npbins)\n",
    "    labels = numpy.unique(clusters.labels_)\n",
    "\n",
    "    hist_decres = sorted(histogram[0], reverse=True)\n",
    "\n",
    "    colors = []\n",
    "\n",
    "    for i in range(n_clusters):\n",
    "        colors.append([int(clusters.cluster_centers_[i][0]),int(clusters.cluster_centers_[i][1]),int(clusters.cluster_centers_[i][2])])\n",
    "        \n",
    "    \n",
    "    return colors"
   ]
  },
  {
   "attachments": {},
   "cell_type": "markdown",
   "metadata": {},
   "source": [
    "## Récupération des métadonnées\n",
    "Ces métadonnées sont ensuite sauvegardées dans un fichier json."
   ]
  },
  {
   "cell_type": "code",
   "execution_count": null,
   "metadata": {},
   "outputs": [],
   "source": [
    "def meta(nom,ind):\n",
    "    global data\n",
    "    data = {\"images\": []}\n",
    "    if not os.path.exists(\"metadonnees\"):\n",
    "        os.makedirs(\"metadonnees\")\n",
    "\n",
    "    for i in range(len(os.listdir(nom))):\n",
    "        try:\n",
    "            imgfile = Image.open(nom + \"/image\"+str(i)+\".jpg\")\n",
    "            imgscale = resizeIMG(imgfile)\n",
    "            if len(imgscale.getbands()) < 3:\n",
    "                continue\n",
    "            img = {\n",
    "                \"nom\": f\"image{i}.jpg\",\n",
    "                \"mode\": imgscale.mode,\n",
    "                \"size\": imgscale.size,\n",
    "                \"extension\": imgfile.format,\n",
    "                \"format\": getformat(f\"image{i}.jpg\"),\n",
    "                \"colors\" : getcolors(f\"image{i}.jpg\"),\n",
    "            }\n",
    "            imgfile.close()\n",
    "            data[\"images\"].append(img)\n",
    "        except Exception as e:\n",
    "            traceback.print_exc()\n",
    "            print(f\"image{i}.jpg\", \"Image non valide:\", e)\n",
    "\n",
    "    with open(\"metadonnees/data\"+str(ind)+\".json\", \"w\") as monfichier:\n",
    "        json.dump(data, monfichier, indent=4)"
   ]
  },
  {
   "attachments": {},
   "cell_type": "markdown",
   "metadata": {},
   "source": [
    "## Fonction de vérification\n",
    "Cette fonction permet de vérifier si le dossier images existe. Si ce n'est pas le cas, elle le crée., Si le dossier existe, on vérifie qu'il est vide. s'il n'est pas vvide, on affiche un message d'erreur. Et s'il est vide, on télécharge les images."
   ]
  },
  {
   "cell_type": "code",
   "execution_count": null,
   "metadata": {},
   "outputs": [],
   "source": [
    "def full_path():\n",
    "    global i\n",
    "    if not os.path.exists(\"images\"):\n",
    "        os.makedirs(\"images\")\n",
    "    if len(os.listdir(\"images\")) == 0:\n",
    "        for result in get_res():\n",
    "            download_image(result[\"image\"][\"value\"],i)\n",
    "            time.sleep(0.01)\n",
    "            i+=1\n",
    "        meta(\"images\",0)\n",
    "    else:\n",
    "        print(\"Le dossier n'est pas vide\")"
   ]
  },
  {
   "attachments": {},
   "cell_type": "markdown",
   "metadata": {},
   "source": [
    "## Conversion de couleurs du format RGB au format hexadécimal"
   ]
  },
  {
   "cell_type": "code",
   "execution_count": null,
   "metadata": {},
   "outputs": [],
   "source": [
    "def rgb_to_hex(r,g,b):\n",
    "    # Convertit une couleur RGB en hexadécimal\n",
    "    return '#{:02x}{:02x}{:02x}'.format(r, g, b)"
   ]
  },
  {
   "attachments": {},
   "cell_type": "markdown",
   "metadata": {},
   "source": [
    "## Suppression des images\n",
    "Si l'image n'est pas exploitable, on la supprime."
   ]
  },
  {
   "cell_type": "code",
   "execution_count": null,
   "metadata": {},
   "outputs": [],
   "source": [
    "def removeBigfile(image):\n",
    "    # Permet de supprimer une image\n",
    "    try:\n",
    "        if os.path.exists(\"images/\"+image):\n",
    "            os.remove(\"images/\"+image)\n",
    "        else : \n",
    "            print(\"Image non existante\")\n",
    "    except:\n",
    "        print(\"Erreur lors de la suppression de l'image\")"
   ]
  },
  {
   "attachments": {},
   "cell_type": "markdown",
   "metadata": {},
   "source": [
    "## Main"
   ]
  },
  {
   "cell_type": "code",
   "execution_count": null,
   "metadata": {},
   "outputs": [],
   "source": [
    "def main():\n",
    "    # Cette fonction permet de lancer le programme\n",
    "    usr = int(input(\"Que voulez-vous faire ? \\n 1 - La totale \\n 2 - Créer les métadonnées \\n 3 - Supprimer les données \\n 4 - Quitter \\n\"))\n",
    "    if usr == 1:\n",
    "        full_path()\n",
    "    elif usr == 3:\n",
    "        delete_donnees()\n",
    "    elif usr == 2:\n",
    "        meta(\"images\",0)\n",
    "    elif usr == 4:\n",
    "        print(\"Au revoir\")\n",
    "        exit()\n",
    "    else:\n",
    "        print(\"Veuillez entrer un nombre entre 1 et 4\")\n",
    "\n"
   ]
  },
  {
   "cell_type": "code",
   "execution_count": null,
   "metadata": {},
   "outputs": [],
   "source": [
    "main()"
   ]
  },
  {
   "attachments": {},
   "cell_type": "markdown",
   "metadata": {},
   "source": [
    "# Classe utilisateur \n",
    "\n",
    "Cette classe sera la pour stocker les informations de l'utilisateur. Elle contiendra les informations suivantes:\n",
    "* L'orientation préférée de l'utilisateur\n",
    "* La couleur préférée de l'utilisateur parmis la liste de webcolors\n",
    "\n"
   ]
  },
  {
   "cell_type": "code",
   "execution_count": null,
   "metadata": {},
   "outputs": [],
   "source": [
    "import string\n",
    "from random import randint\n",
    "\n",
    "\n",
    "class user():\n",
    "    def __init__(self): \n",
    "        self.favcolor = [randint(0,255),randint(0,255),randint(0,255)]\n",
    "        self.favformat = self.setfavformat()\n",
    "        self.favtheme = None\n",
    "\n",
    "\n",
    "    def setfavformat(self):\n",
    "        temp = int(input(\"Choisissez un format (1 : paysage, 2 : portrait ou 3 : carré) : \"))\n",
    "        if temp == 1:\n",
    "            favformat = str('paysage')\n",
    "        elif temp == 2:\n",
    "            favformat = str('portrait')\n",
    "        elif temp == 3:\n",
    "            favformat = str('carre')\n",
    "        else:\n",
    "            print(\"Veuillez entrer un nombre entre 1 et 3\")\n",
    "            self.setfavformat()\n",
    "        return favformat\n",
    "\n",
    "\n",
    "    def getfavformat(self):\n",
    "        return self.favformat\n",
    "\n"
   ]
  },
  {
   "attachments": {},
   "cell_type": "markdown",
   "metadata": {},
   "source": [
    "# Classe main\n",
    "Cette classe permet de lancer le programme. Elle contiendra les informations suivantes:\n",
    "* L'utilisateur\n",
    "* Les données des images (orientation, couleur, nom, chemin)"
   ]
  },
  {
   "cell_type": "code",
   "execution_count": null,
   "metadata": {},
   "outputs": [
    {
     "ename": "",
     "evalue": "",
     "output_type": "error",
     "traceback": [
      "\u001b[1;31mThe Kernel crashed while executing code in the the current cell or a previous cell. Please review the code in the cell(s) to identify a possible cause of the failure. Click <a href='https://aka.ms/vscodeJupyterKernelCrash'>here</a> for more info. View Jupyter <a href='command:jupyter.viewOutput'>log</a> for further details."
     ]
    }
   ],
   "source": [
    "class main():\n",
    "    def __init__(self):\n",
    "        self.usr = user()\n",
    "        self.data = self.getdata()\n",
    "\n",
    "    def getdata(self):\n",
    "        with open(\"metadonnees/data0.json\") as datafile:\n",
    "            data = json.load(datafile)\n",
    "        return data\n",
    "    \n",
    "    def showimg(self):\n",
    "        for i in range(len(self.data[\"images\"])):\n",
    "            if self.data[\"images\"][i][\"format\"] == self.usr.getfavformat() and get_distance(self.usr.favcolor,self.data[\"images\"][i][\"colors\"][0])<150 :\n",
    "                img = Image.open(\"images/\"+self.data[\"images\"][i][\"nom\"])\n",
    "                img.show()\n",
    "                img.close()\n",
    "            else:\n",
    "                print(\"Image non correspondante à vos critères\")\n",
    "                \n",
    "\n",
    "x = main()\n",
    "x.showimg()"
   ]
  },
  {
   "attachments": {},
   "cell_type": "markdown",
   "metadata": {},
   "source": [
    "# Code permettant de génerer l'arbe de décision"
   ]
  },
  {
   "cell_type": "code",
   "execution_count": null,
   "metadata": {},
   "outputs": [],
   "source": [
    "\n",
    "\n",
    "#creating dataframes\n",
    "import graphviz\n",
    "from sklearn import tree\n",
    "from sklearn.preprocessing import LabelEncoder\n",
    "import pydotplus\n",
    "from IPython.display import Image, display\n",
    "\n",
    "result = ['Favorite',\n",
    "        'NotFavorite',\n",
    "        'NotFavorite',\n",
    "        'NotFavorite',\n",
    "        'NotFavorite',\n",
    "        'NotFavorite',\n",
    "        'NotFavorite',\n",
    "        'NotFavorite',\n",
    "        'NotFavorite',\n",
    "        'NotFavorite',\n",
    "        'NotFavorite',\n",
    "        'NotFavorite',\n",
    "        'NotFavorite',\n",
    "        'NotFavorite',\n",
    "        'NotFavorite',\n",
    "        'NotFavorite',\n",
    "        'NotFavorite',\n",
    "        'NotFavorite',\n",
    "        'NotFavorite',\n",
    "        'NotFavorite',\n",
    "        'NotFavorite',\n",
    "        'NotFavorite',\n",
    "        'NotFavorite',\n",
    "        'NotFavorite',\n",
    "        'NotFavorite']\n",
    "\n",
    "dataframe = pd.DataFrame(x.data[\"images\"], columns=['colors', 'format', 'size'])\n",
    "\n",
    "resultframe = pd.DataFrame(result, columns=['favorite'])\n",
    "dataframe[['colors1','colors2']] = pd.DataFrame(dataframe[\"colors\"].tolist(), index= dataframe.index)\n",
    "dataframe[['c1R','c1G','c1B']] = pd.DataFrame(dataframe[\"colors1\"].tolist(), index= dataframe.index)\n",
    "dataframe[['c2R','c2G','c2B']] = pd.DataFrame(dataframe[\"colors2\"].tolist(), index= dataframe.index)\n",
    "dataframe[['width','height']] = pd.DataFrame(dataframe[\"size\"].tolist(), index= dataframe.index)\n",
    "dataframe.drop(columns=['colors','size','colors1','colors2'], inplace=True)\n",
    "print(dataframe)\n",
    "le2 = LabelEncoder()\n",
    "dataframe['format'] = le2.fit_transform(dataframe['format'])\n",
    "\n",
    "le5 = LabelEncoder()\n",
    "resultframe['favorite'] = le5.fit_transform(resultframe['favorite'])\n",
    "\n",
    "#Utilisation d'arbre de décisision\n",
    "dtc = tree.DecisionTreeClassifier()\n",
    "dtc = dtc.fit(dataframe, resultframe[0:len(dataframe)])\n",
    "\n",
    "dot_data = tree.export_graphviz(dtc, out_file=None,\n",
    "        feature_names=dataframe.columns,\n",
    "        filled=True, rounded=True, \n",
    "        class_names = \n",
    "        le5.inverse_transform(\n",
    "        resultframe.favorite.unique())\n",
    "        ) \n",
    "graph = graphviz.Source(dot_data) \n",
    "\n",
    "pydot_graph = pydotplus.graph_from_dot_data(dot_data)\n",
    "img = Image(pydot_graph.create_png())\n",
    "display(img)"
   ]
  },
  {
   "attachments": {},
   "cell_type": "markdown",
   "metadata": {},
   "source": [
    "# Recherche des deux couleurs préférées de l'utilisateur d'après les données de l'arbre de décision\n",
    "* On fait simplement la moyenne des deux couleurs les plus présentes dans les images préférées de l'utilisateur"
   ]
  },
  {
   "cell_type": "code",
   "execution_count": null,
   "metadata": {},
   "outputs": [],
   "source": [
    "couleur1 = [0,0,0]\n",
    "couleur2 = [0,0,0]\n",
    "nb = 0\n",
    "for i in range(len(dataframe)):\n",
    "    if resultframe['favorite'][i] == 0:\n",
    "        nb +=1\n",
    "        couleur1[0] += dataframe['c1R'][i]\n",
    "        couleur1[1] += dataframe['c1G'][i]\n",
    "        couleur1[2] += dataframe['c1B'][i]\n",
    "        \n",
    "        couleur2[0] += dataframe['c2R'][i]\n",
    "        couleur2[1] += dataframe['c2G'][i]\n",
    "        couleur2[2] += dataframe['c2B'][i]\n",
    "    else :\n",
    "        None\n",
    "\n",
    "couleur1[0] = round(couleur1[0]/nb,0)\n",
    "couleur1[1] = round(couleur1[1]/nb,0)\n",
    "couleur1[2] = round(couleur1[2]/nb,0)\n",
    "\n",
    "couleur2[0] = round(couleur2[0]/nb,0)\n",
    "couleur2[1] = round(couleur2[1]/nb,0)\n",
    "couleur2[2] = round(couleur2[2]/nb,0)\n",
    "\n",
    "couleur = [couleur1,couleur2]\n",
    "print(\"Les deux couleurs préférées de l'utilisateur sont: \",couleur)\n",
    "\n",
    "\n",
    "def afficher_couleur(RGB):\n",
    "    couleur = [v/255 for v in RGB] # Convertir les valeurs de 0-255 à 0-1\n",
    "    plot.figure(figsize=(2,2))\n",
    "    plot.axes().set_aspect('equal', 'datalim')\n",
    "    plot.axes().add_patch(plot.Rectangle((0, 0), 1, 1, facecolor=couleur, edgecolor='none'))\n",
    "    plot.axis('off')\n",
    "    plot.show()\n",
    "\n",
    "for lst in couleur:\n",
    "    afficher_couleur(lst)\n"
   ]
  },
  {
   "cell_type": "code",
   "execution_count": null,
   "metadata": {},
   "outputs": [],
   "source": [
    "print(dataframe)"
   ]
  },
  {
   "attachments": {},
   "cell_type": "markdown",
   "metadata": {},
   "source": [
    "On va ensuite télecharger de nouvelles images pour en sortir celle que l'utilisateur est succeptible d'aimer."
   ]
  },
  {
   "cell_type": "code",
   "execution_count": null,
   "metadata": {},
   "outputs": [],
   "source": [
    "import PIL.Image as Image\n",
    "def get_res2():\n",
    "    res = []\n",
    "    gettedQ = get_results(url, querie2)\n",
    "    res.extend(gettedQ[\"results\"][\"bindings\"])\n",
    "    return res\n",
    "\n",
    "\n",
    "def download_image2(url,index):\n",
    "# Cette fonction permet de télécharger une image à partir d'une url\n",
    "# et de la sauvegarder dans un dossier images sous le nom imageX.jpg\n",
    "    name = \"image\" + str(index) + \".jpg\"\n",
    "    urllib.request.urlretrieve(url, \"images2/\" + name)\n",
    "\n",
    "\n",
    "def full_path2():\n",
    "# Cette fonction permet de vérifier si le dossier images existe\n",
    "# si le dossier n'existe pas, il est créé\n",
    "# si le dossier existe, on vérifie qu'il est vide\n",
    "# si le dossier n'est pas vide, on affiche un message\n",
    "# si il est vide, on télécharge les images\n",
    "    var = 0\n",
    "    if not os.path.exists(\"images2\"):\n",
    "        os.makedirs(\"images2\")\n",
    "    if len(os.listdir(\"images2\")) == 0:\n",
    "        for result in get_res2():\n",
    "            download_image2(result[\"image\"][\"value\"],var)\n",
    "            time.sleep(0.01)\n",
    "            var+=1\n",
    "        try :\n",
    "            meta(\"images2\",1)\n",
    "        except:\n",
    "            None\n",
    "    else:\n",
    "        print(\"Le dossier n'est pas vide\")\n",
    "\n",
    "full_path2()\n",
    "\n",
    "    "
   ]
  },
  {
   "cell_type": "code",
   "execution_count": null,
   "metadata": {},
   "outputs": [],
   "source": [
    "with open(\"metadonnees/data1.json\") as datafile:\n",
    "    data = json.load(datafile)\n",
    "\n",
    "\n",
    "for i in range(len(data[\"images\"])):\n",
    "    if (get_distance(data[\"images\"][i][\"colors\"][0],couleur[0])<50 and get_distance(data[\"images\"][i][\"colors\"][1],couleur[1])<50):\n",
    "        try:\n",
    "            img = Image.open(\"images2/\"+data[\"images\"][i][\"nom\"])\n",
    "            img.show()\n",
    "            img.close()\n",
    "        except:\n",
    "            None"
   ]
  },
  {
   "attachments": {},
   "cell_type": "markdown",
   "metadata": {},
   "source": [
    "Fonctions rédigées mais non utilisées"
   ]
  },
  {
   "cell_type": "code",
   "execution_count": null,
   "metadata": {},
   "outputs": [],
   "source": [
    "# def similar_color(color):\n",
    "#     # Fonction qui permet de récupérer la couleur la plus proche de la couleur donnée\n",
    "#     list_color = get_list_colors()\n",
    "#     min_distance = float('inf')\n",
    "#     for color_name, *rgb in list_color:\n",
    "#         distance = get_distance(color, rgb)\n",
    "#         if distance < min_distance:\n",
    "#             min_distance = distance\n",
    "#             closest_color = color_name\n",
    "#     return closest_color\n",
    "  \n",
    "\n",
    "\n",
    "# def get_list_colors():\n",
    "# # Fonction qui permet de récupérer la liste des couleurs connu de la librairie webcolors\n",
    "#     list_color = []\n",
    "#     for r in range(256):\n",
    "#         for g in range(256):\n",
    "#             for b in range(256):\n",
    "#                 try:\n",
    "#                     lst = [rgb_to_name((r,g,b), spec='css3'),r,g,b]\n",
    "#                     list_color.append(lst)\n",
    "#                 except ValueError:\n",
    "#                     pass\n",
    "#     return list_color\n",
    "\n",
    "\"\"\"\n",
    "def similar_color(color):\n",
    "    # Fonction qui permet de récupérer la couleur la plus proche de la couleur donnée\n",
    "    list_color = get_list_colors()\n",
    "    min_distance = float('inf')\n",
    "    for color_name, *rgb in list_color:\n",
    "        distance = get_distance(color, rgb)\n",
    "        if distance < min_distance:\n",
    "            min_distance = distance\n",
    "            closest_color = color_name\n",
    "    return closest_color\n",
    "\n",
    "def get_list_colors():\n",
    "# Fonction qui permet de récupérer la liste des couleurs connu de la librairie webcolors\n",
    "    list_color = []\n",
    "    for r in range(256):\n",
    "        for g in range(256):\n",
    "            for b in range(256):\n",
    "                try:\n",
    "                    lst = [rgb_to_name((r,g,b), spec='css3'),r,g,b]\n",
    "                    list_color.append(lst)\n",
    "                except ValueError:\n",
    "                    pass\n",
    "    return list_color\n",
    "    \n",
    "def similar_color(color):\n",
    "        # Fonction qui permet de récupérer la couleur la plus proche de la couleur donnée\n",
    "    min_distance = float('inf')\n",
    "    for color_name, rgb in colors.items():\n",
    "        distance = get_distance(color, rgb)\n",
    "        if distance < min_distance:\n",
    "            min_distance = distance\n",
    "            closest_color = color_name\n",
    "    return closest_color\n",
    "\n",
    "\"\"\""
   ]
  }
 ],
 "metadata": {
  "kernelspec": {
   "display_name": "Python 3 (ipykernel)",
   "language": "python",
   "name": "python3"
  },
  "language_info": {
   "codemirror_mode": {
    "name": "ipython",
    "version": 3
   },
   "file_extension": ".py",
   "mimetype": "text/x-python",
   "name": "python",
   "nbconvert_exporter": "python",
   "pygments_lexer": "ipython3",
   "version": "3.10.11"
  },
  "vscode": {
   "interpreter": {
    "hash": "eac724a25a4a920b3bf25d1206f5a8c3f75e42d6db81fef33ec35c3609a047d4"
   }
  }
 },
 "nbformat": 4,
 "nbformat_minor": 4
}
